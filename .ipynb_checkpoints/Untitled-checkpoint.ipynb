{
 "cells": [
  {
   "cell_type": "code",
   "execution_count": 54,
   "id": "447f4a63",
   "metadata": {},
   "outputs": [],
   "source": [
    "import tensorflow as tf\n",
    "import os\n",
    "#Run the below code only if your system supports GPU\n",
    "\n",
    "os.environ[\"CUDA_VISIBLE_DEVICES\"] = \"-1\""
   ]
  },
  {
   "cell_type": "code",
   "execution_count": 55,
   "id": "8cbf6437",
   "metadata": {},
   "outputs": [
    {
     "data": {
      "text/plain": [
       "'2.10.0'"
      ]
     },
     "execution_count": 55,
     "metadata": {},
     "output_type": "execute_result"
    }
   ],
   "source": [
    "tf.__version__"
   ]
  },
  {
   "cell_type": "code",
   "execution_count": 56,
   "id": "e5de1b5f",
   "metadata": {},
   "outputs": [],
   "source": [
    "Run This code only once\n",
    "To Split the data into Train and Test \n",
    "import splitfolders\n",
    "input_folder = r\"E:\\Projects\\Malaria\\archive (1)\\cell_images\"\n",
    "splitfolders.ratio(input_folder,output = r\"E:\\Projects\\Malaria\\archive (1)\\Split_cell_images\",\n",
    "                  seed = 1337, ratio = (0.7, 0.2, 0.1), group_prefix=None, move = False)"
   ]
  },
  {
   "cell_type": "code",
   "execution_count": 57,
   "id": "cbe0aa1d",
   "metadata": {},
   "outputs": [
    {
     "name": "stdout",
     "output_type": "stream",
     "text": [
      "(163, 142, 3)\n"
     ]
    },
    {
     "data": {
      "text/plain": [
       "-1"
      ]
     },
     "execution_count": 57,
     "metadata": {},
     "output_type": "execute_result"
    }
   ],
   "source": [
    "import cv2\n",
    "img = cv2.imread(r\"E:\\Projects\\Malaria\\archive (1)\\cell_images\\Parasitized\\C33P1thinF_IMG_20150619_114756a_cell_179.png\")\n",
    "cv2.imshow('Infected', img)\n",
    "dimensions = img.shape\n",
    "print(dimensions)\n",
    "cv2.waitKey(0)"
   ]
  },
  {
   "cell_type": "code",
   "execution_count": 58,
   "id": "b11c563e",
   "metadata": {},
   "outputs": [],
   "source": [
    "#img = cv2.imread(r\"E:\\Projects\\Malaria\\archive (1)\\cell_images\\Uninfected\\C1_thinF_IMG_20150604_104722_cell_9.png\")\n",
    "#cv2.imshow(\"Uninfected\", img)\n",
    "#cv2.waitKey(0)"
   ]
  },
  {
   "cell_type": "code",
   "execution_count": 59,
   "id": "ab9b2753",
   "metadata": {},
   "outputs": [],
   "source": [
    "BS = 16"
   ]
  },
  {
   "cell_type": "code",
   "execution_count": 60,
   "id": "588169cb",
   "metadata": {},
   "outputs": [
    {
     "name": "stdout",
     "output_type": "stream",
     "text": [
      "Found 19290 images belonging to 2 classes.\n"
     ]
    }
   ],
   "source": [
    "from keras.preprocessing.image import ImageDataGenerator\n",
    "train_datagen = ImageDataGenerator( rescale = 1./255,\n",
    "                                  shear_range = 0.2, \n",
    "                                  zoom_range = 0.2, \n",
    "                                  horizontal_flip= True)\n",
    "train = train_datagen.flow_from_directory( r\"E:\\Projects\\Malaria\\archive (1)\\Split_cell_images\\train\",\n",
    "                                         target_size =(64, 64), \n",
    "                                         batch_size = BS, \n",
    "                                         class_mode = 'binary')\n"
   ]
  },
  {
   "cell_type": "code",
   "execution_count": 61,
   "id": "7ed23241",
   "metadata": {},
   "outputs": [
    {
     "name": "stdout",
     "output_type": "stream",
     "text": [
      "Found 5512 images belonging to 2 classes.\n"
     ]
    }
   ],
   "source": [
    "val_datagen = ImageDataGenerator( rescale = 1./255)\n",
    "val = train_datagen.flow_from_directory( r\"E:\\Projects\\Malaria\\archive (1)\\Split_cell_images\\val\",\n",
    "                                         target_size =(64,64), \n",
    "                                         batch_size = BS, \n",
    "                                         class_mode = 'binary')\n"
   ]
  },
  {
   "cell_type": "code",
   "execution_count": 62,
   "id": "b052939e",
   "metadata": {},
   "outputs": [
    {
     "name": "stdout",
     "output_type": "stream",
     "text": [
      "Found 2756 images belonging to 2 classes.\n"
     ]
    }
   ],
   "source": [
    "test_datagen = ImageDataGenerator(rescale = 1./255)\n",
    "test = test_datagen.flow_from_directory(r\"E:\\Projects\\Malaria\\archive (1)\\Split_cell_images\\test\", \n",
    "                                       target_size = (64, 64), \n",
    "                                       batch_size = BS, \n",
    "                                       class_mode = 'binary')\n"
   ]
  },
  {
   "cell_type": "code",
   "execution_count": 65,
   "id": "8228db79",
   "metadata": {},
   "outputs": [],
   "source": [
    "from keras.layers import Conv2D, MaxPool2D, Flatten, Dense\n",
    "cnn = tf.keras.models.Sequential()\n",
    "cnn.add(Conv2D(filters=32, kernel_size=3, activation ='relu', input_shape = [64, 64, 3]))\n",
    "cnn.add(MaxPool2D(pool_size=2, strides=2))\n",
    "cnn.add(Conv2D(filters=32, kernel_size=3, activation = 'relu'))\n",
    "cnn.add(MaxPool2D(pool_size=2, strides=2))\n",
    "#cnn.add(Conv2D(filters=32, kernel_size=3, activation = 'relu'))\n",
    "#cnn.add(MaxPool2D(pool_size=2,strides = 2))\n",
    "cnn.add(Flatten())\n",
    "cnn.add(Dense(units= 64, activation= 'relu'))\n",
    "cnn.add(Dense(units = 1, activation = 'sigmoid'))\n",
    "cnn.compile(optimizer='adam', loss = 'binary_crossentropy', metrics = ['accuracy'])"
   ]
  },
  {
   "cell_type": "code",
   "execution_count": 66,
   "id": "4cdf4aaa",
   "metadata": {},
   "outputs": [
    {
     "name": "stdout",
     "output_type": "stream",
     "text": [
      "Epoch 1/6\n",
      "1206/1206 [==============================] - 709s 587ms/step - loss: 0.3615 - accuracy: 0.8425 - val_loss: 0.1963 - val_accuracy: 0.9196\n",
      "Epoch 2/6\n",
      "1206/1206 [==============================] - 275s 228ms/step - loss: 0.2089 - accuracy: 0.9366 - val_loss: 0.1845 - val_accuracy: 0.9380\n",
      "Epoch 3/6\n",
      "1206/1206 [==============================] - 228s 189ms/step - loss: 0.1657 - accuracy: 0.9476 - val_loss: 0.1749 - val_accuracy: 0.9423\n",
      "Epoch 4/6\n",
      "1206/1206 [==============================] - 122s 101ms/step - loss: 0.1503 - accuracy: 0.9528 - val_loss: 0.1442 - val_accuracy: 0.9521\n",
      "Epoch 5/6\n",
      "1206/1206 [==============================] - 102s 84ms/step - loss: 0.1411 - accuracy: 0.9545 - val_loss: 0.1402 - val_accuracy: 0.9528\n",
      "Epoch 6/6\n",
      "1206/1206 [==============================] - 107s 88ms/step - loss: 0.1340 - accuracy: 0.9568 - val_loss: 0.1399 - val_accuracy: 0.9554\n"
     ]
    },
    {
     "data": {
      "text/plain": [
       "<keras.callbacks.History at 0x25fa17bfe80>"
      ]
     },
     "execution_count": 66,
     "metadata": {},
     "output_type": "execute_result"
    }
   ],
   "source": [
    "cnn.fit(x = train, validation_data= val, epochs = 3 )"
   ]
  },
  {
   "cell_type": "code",
   "execution_count": 71,
   "id": "eec1a315",
   "metadata": {},
   "outputs": [
    {
     "name": "stdout",
     "output_type": "stream",
     "text": [
      "1/1 [==============================] - 0s 79ms/step\n",
      "Infected\n"
     ]
    }
   ],
   "source": [
    "from keras import utils\n",
    "\n",
    "test_img = utils.load_img(r\"E:\\Projects\\Malaria\\archive (1)\\Split_cell_images\\test\\Uninfected\\C1_thinF_IMG_20150604_104722_cell_164.png\",\n",
    "                      target_size=(64, 64))\n",
    "test_img = utils.img_to_array(test_img)\n",
    "test_img = np.expand_dims(test_img, axis = 0)\n",
    "train.class_indices\n",
    "\n",
    "out = cnn.predict(test_img)\n",
    "if out[0] == 0:\n",
    "    print(\"Infected\")\n",
    "else:\n",
    "    print(\"Uninfected\")"
   ]
  },
  {
   "cell_type": "code",
   "execution_count": null,
   "id": "f0350a67",
   "metadata": {},
   "outputs": [],
   "source": [
    "#cnn.save(\"Malaria_neural_network.h5\")"
   ]
  },
  {
   "cell_type": "code",
   "execution_count": null,
   "id": "5a340a73",
   "metadata": {},
   "outputs": [],
   "source": []
  }
 ],
 "metadata": {
  "kernelspec": {
   "display_name": "Python 3 (ipykernel)",
   "language": "python",
   "name": "python3"
  },
  "language_info": {
   "codemirror_mode": {
    "name": "ipython",
    "version": 3
   },
   "file_extension": ".py",
   "mimetype": "text/x-python",
   "name": "python",
   "nbconvert_exporter": "python",
   "pygments_lexer": "ipython3",
   "version": "3.10.10"
  }
 },
 "nbformat": 4,
 "nbformat_minor": 5
}
